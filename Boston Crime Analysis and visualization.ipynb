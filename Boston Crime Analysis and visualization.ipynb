{
  "nbformat": 4,
  "nbformat_minor": 0,
  "metadata": {
    "colab": {
      "provenance": [],
      "authorship_tag": "ABX9TyM4u4EANyXgvNqftmBVG24m",
      "include_colab_link": true
    },
    "kernelspec": {
      "name": "python3",
      "display_name": "Python 3"
    }
  },
  "cells": [
    {
      "cell_type": "markdown",
      "metadata": {
        "id": "view-in-github",
        "colab_type": "text"
      },
      "source": [
        "<a href=\"https://colab.research.google.com/github/lingqinlq/hello-world/blob/main/Boston%20Crime%20Analysis%20and%20visualization.ipynb\" target=\"_parent\"><img src=\"https://colab.research.google.com/assets/colab-badge.svg\" alt=\"Open In Colab\"/></a>"
      ]
    },
    {
      "cell_type": "code",
      "metadata": {
        "id": "G9-2S_5g3wxV"
      },
      "source": [
        "'''\n",
        "Created on Jul 28, 2020\n",
        "\n",
        "@author: Ling Qin\n",
        "\n",
        "Title: Boston Crime Analysis\n",
        "\n",
        "\n",
        "The code need to be donwloeded to local then run in terminal with code:\n",
        "\n",
        "pip install streamlit\n",
        "\n",
        "cd [file folder address i.e. /Users/Lynn/eclipse-workspace]\n",
        "\n",
        "streamlit run Bostoncrime_LingQin.py\n",
        "\n",
        "\n",
        "'''\n",
        "\n",
        "import streamlit as st\n",
        "import pandas as pd\n",
        "import pydeck as pdk\n",
        "import numpy as np\n",
        "import matplotlib.pyplot as plt\n",
        "plt.style.use('ggplot')"
      ],
      "execution_count": null,
      "outputs": []
    },
    {
      "cell_type": "code",
      "metadata": {
        "id": "7Kcmjzcv4Uyl"
      },
      "source": [
        "# Set the Mapbox API key\n",
        "MAPKEY = \"pk.eyJ1IjoiY2hlY2ttYXJrIiwiYSI6ImNrOTI0NzU3YTA0azYzZ21rZHRtM2tuYTcifQ.6aQ9nlBpGbomhySWPF98DApk.eyJ1IjoiY2hlY2ttYXJrIiwiYSI6ImNrOTI0NzU3YTA0azYzZ21rZHRtM2tuYTcifQ.6aQ9nlBpGbomhySWPF98DA\"\n",
        "\n",
        "df = pd.read_csv(\"BostonCrime2020Sample.csv\")\n",
        "DISTRICTS = {\"Downtown\":\"A1\",\n",
        "             \"Charlestown\":\"A15\",\n",
        "             \"East Boston\":\"A7\",\n",
        "             \"Roxbury\":\"B2\",\n",
        "             \"South Boston\":\"C6\",\n",
        "             \"Dorchester\":\"C11\",\n",
        "             \"South End\":\"D4\",\n",
        "             \"Brighton\":\"D14\",\n",
        "             \"West Roxbury\":\"E5\",\n",
        "             \"Jamaica Plain\":\"E13\",\n",
        "             \"Hyde Park\":\"E18\"}\n"
      ],
      "execution_count": null,
      "outputs": []
    },
    {
      "cell_type": "code",
      "metadata": {
        "id": "3xXowgcZ4UoD"
      },
      "source": [
        "def district_select():\n",
        "    district_select = st.radio(\"Please select a district to analyze:\", list(DISTRICTS.keys()))\n",
        "    st.header(f\"Crime data analysis for {district_select}\")\n",
        "    return district_select"
      ],
      "execution_count": null,
      "outputs": []
    },
    {
      "cell_type": "code",
      "metadata": {
        "id": "nTsKb-WB4Udq"
      },
      "source": [
        "def district_compare(district_select):\n",
        "    st.header(f\"Let's compare {district_select} with other districts in Boston\")\n",
        "    comparison_district = st.multiselect(\"Select other districts for comparison: \", list(DISTRICTS.keys()))\n",
        "    districtsList = [district_select]\n",
        "    for n in comparison_district:\n",
        "        if n == district_select:\n",
        "            st.write(\"You select a district the same as before. Please select a new one.\")\n",
        "        else:\n",
        "            districtsList.append(n)\n",
        "    return districtsList"
      ],
      "execution_count": null,
      "outputs": []
    },
    {
      "cell_type": "code",
      "metadata": {
        "id": "fiSKYi0k4USb"
      },
      "source": [
        "def crime_top5(district):\n",
        "    pivot_tb = pd.pivot_table(df, values='INCIDENT_NUMBER', index=['DISTRICT'],\n",
        "                              columns=['OFFENSE_DESCRIPTION'], aggfunc=len)\n",
        "    topfive = pivot_tb.loc[district,:].sort_values(ascending=False)[:5]\n",
        "    st.write(f'There are {int(np.sum(pivot_tb.loc[district,:]))} offense cases happened from January to July 2020.')\n",
        "    st.write(f\"The top 5 most often happened offense are:\")\n",
        "    plt.figure(figsize=(10,4))\n",
        "    plt.barh(topfive.index, topfive.values, color='#557f2d', height= 0.5)\n",
        "    plt.yticks(fontsize=7)"
      ],
      "execution_count": null,
      "outputs": []
    },
    {
      "cell_type": "code",
      "metadata": {
        "id": "RklmMIHO3hQp"
      },
      "source": [
        "def offense_map(district):\n",
        "    subdf = df[['DISTRICT','OFFENSE_DESCRIPTION','STREET','OCCURRED_ON_DATE','Lat','Long']]\n",
        "    locationdata = subdf.loc[subdf.DISTRICT == district]\n",
        "    locationdata.rename(columns={'Lat':'lat', 'Long':'lon'}, inplace=True)\n",
        "    for name, code in DISTRICTS.items():\n",
        "        if code == district:\n",
        "            st.write(f\"Details of the offense cases happened in {district}- {name}:\")\n",
        "    st.dataframe(locationdata)\n",
        "\n",
        "    view_state = pdk.ViewState(\n",
        "    latitude=locationdata[\"lat\"].mean(),\n",
        "    longitude=locationdata[\"lon\"].mean(),\n",
        "    zoom=11,\n",
        "    pitch=0)\n",
        "\n",
        "    layer1 = pdk.Layer('ScatterplotLayer',\n",
        "                  data=locationdata,\n",
        "                  get_position='[lon, lat]',\n",
        "                  get_radius=30,\n",
        "                  get_color=[168, 50, 50],\n",
        "                  pickable=True\n",
        "                  )\n",
        "    tool_tip = {\"html\": \"{STREET}: {OFFENSE_DESCRIPTION} at {OCCURRED_ON_DATE} \",\n",
        "            \"style\": { \"backgroundColor\": \"steelblue\",\n",
        "                        \"color\": \"white\"}\n",
        "          }\n",
        "    map1 = pdk.Deck(\n",
        "        map_style='mapbox://styles/mapbox/light-v9',\n",
        "        initial_view_state=view_state,\n",
        "        mapbox_key=MAPKEY,\n",
        "        layers=[layer1],\n",
        "        tooltip= tool_tip)\n",
        "\n",
        "    st.pydeck_chart(map1)"
      ],
      "execution_count": null,
      "outputs": []
    },
    {
      "cell_type": "code",
      "metadata": {
        "id": "iTJVRkrT4o2O"
      },
      "source": [
        "def district_comparison(comparison_district):\n",
        "    pivot_tb = pd.pivot_table(df, values='INCIDENT_NUMBER', index=['DISTRICT'],\n",
        "                              columns=['MONTH'], aggfunc=len)\n",
        "    month = list(pivot_tb.columns)\n",
        "    for d in comparison_district:\n",
        "        plt.plot(month, pivot_tb.loc[DISTRICTS[d],:], label = d)\n",
        "    plt.xlabel('Month')\n",
        "    plt.ylabel(\"Number of offense cases\")\n",
        "    plt.legend()\n",
        "    plt.xticks(fontsize=7)"
      ],
      "execution_count": null,
      "outputs": []
    },
    {
      "cell_type": "code",
      "metadata": {
        "id": "81hsfRnL4pW4"
      },
      "source": [
        "st.title(\"Boston Crime Data Analysis\")\n",
        "\n",
        "#1: let user select a district for making a bar chart and a map\n",
        "district_select = district_select()\n",
        "st.pyplot(crime_top5(DISTRICTS[district_select]))\n",
        "offense_map(DISTRICTS[district_select])"
      ],
      "execution_count": null,
      "outputs": []
    },
    {
      "cell_type": "code",
      "metadata": {
        "id": "OAqdCrIt4oqQ"
      },
      "source": [
        "#2: let user select other districts for making a line chart to compare\n",
        "districtsList = district_compare(district_select)\n",
        "st.subheader(f\"\\nCrime data analysis for: {districtsList}\")\n",
        "st.pyplot(district_comparison(districtsList))"
      ],
      "execution_count": null,
      "outputs": []
    }
  ]
}